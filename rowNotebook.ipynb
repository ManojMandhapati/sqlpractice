{
 "cells": [
  {
   "cell_type": "code",
   "execution_count": 0,
   "metadata": {
    "application/vnd.databricks.v1+cell": {
     "cellMetadata": {
      "byteLimit": 2048000,
      "rowLimit": 10000
     },
     "inputWidgets": {},
     "nuid": "09ce8dd0-2ba3-4ad0-95d7-a1eb1bd0a742",
     "showTitle": false,
     "tableResultSettingsMap": {},
     "title": ""
    }
   },
   "outputs": [],
   "source": [
    "from pyspark.sql import Row"
   ]
  },
  {
   "cell_type": "code",
   "execution_count": 0,
   "metadata": {
    "application/vnd.databricks.v1+cell": {
     "cellMetadata": {
      "byteLimit": 2048000,
      "rowLimit": 10000
     },
     "inputWidgets": {},
     "nuid": "f6b80a15-f6f1-40de-ae0c-7d22a128545e",
     "showTitle": false,
     "tableResultSettingsMap": {},
     "title": ""
    }
   },
   "outputs": [
    {
     "output_type": "stream",
     "name": "stdout",
     "output_type": "stream",
     "text": [
      "+-----+------+\n| name|salary|\n+-----+------+\n|Manoj| 20000|\n|Megha| 30000|\n+-----+------+\n\n"
     ]
    }
   ],
   "source": [
    "row1 = Row(name = 'Manoj',salary = 20000)\n",
    "row2 = Row(name = 'Megha',salary = 30000)\n",
    "data = [row1, row2]\n",
    "df = spark.createDataFrame(data)\n",
    "df.show()"
   ]
  },
  {
   "cell_type": "code",
   "execution_count": 0,
   "metadata": {
    "application/vnd.databricks.v1+cell": {
     "cellMetadata": {
      "byteLimit": 2048000,
      "rowLimit": 10000
     },
     "inputWidgets": {},
     "nuid": "d30f4500-da8c-4cd5-8913-c9c06d0920bb",
     "showTitle": false,
     "tableResultSettingsMap": {},
     "title": ""
    }
   },
   "outputs": [
    {
     "output_type": "stream",
     "name": "stdout",
     "output_type": "stream",
     "text": [
      "+-----+---+------+\n| name|age|salary|\n+-----+---+------+\n|Manoj| 29| 20000|\n|Megha| 27| 25000|\n+-----+---+------+\n\n"
     ]
    }
   ],
   "source": [
    "details = Row('name', 'age','salary')\n",
    "p1 = details('Manoj',29,20000)\n",
    "p2 = details('Megha',27,25000)\n",
    "\n",
    "df = spark.createDataFrame([p1,p2])\n",
    "df.show()"
   ]
  },
  {
   "cell_type": "code",
   "execution_count": 0,
   "metadata": {
    "application/vnd.databricks.v1+cell": {
     "cellMetadata": {
      "byteLimit": 2048000,
      "rowLimit": 10000
     },
     "inputWidgets": {},
     "nuid": "cbb7cae1-b73c-45ec-8761-535d8ab787ea",
     "showTitle": false,
     "tableResultSettingsMap": {},
     "title": ""
    }
   },
   "outputs": [
    {
     "output_type": "stream",
     "name": "stdout",
     "output_type": "stream",
     "text": [
      "+-----+------------+\n| name|        prop|\n+-----+------------+\n|Manoj|  {29, male}|\n|Megha|{27, female}|\n+-----+------------+\n\n"
     ]
    }
   ],
   "source": [
    "#Nested struct type\n",
    "data = [Row(name = 'Manoj',prop= Row(age=29,gender = 'male')),\\\n",
    "  Row(name = 'Megha',prop= Row(age=27,gender = 'female'))]\n",
    "\n",
    "df = spark.createDataFrame(data)\n",
    "df.show()"
   ]
  },
  {
   "cell_type": "code",
   "execution_count": 0,
   "metadata": {
    "application/vnd.databricks.v1+cell": {
     "cellMetadata": {},
     "inputWidgets": {},
     "nuid": "691aa857-cec2-4da7-8a2b-f9cf76581930",
     "showTitle": false,
     "tableResultSettingsMap": {},
     "title": ""
    }
   },
   "outputs": [],
   "source": []
  }
 ],
 "metadata": {
  "application/vnd.databricks.v1+notebook": {
   "dashboards": [],
   "environmentMetadata": null,
   "language": "python",
   "notebookMetadata": {
    "pythonIndentUnit": 2
   },
   "notebookName": "rowNotebook",
   "widgets": {}
  }
 },
 "nbformat": 4,
 "nbformat_minor": 0
}
