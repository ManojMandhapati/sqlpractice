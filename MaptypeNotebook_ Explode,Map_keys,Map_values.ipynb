{
 "cells": [
  {
   "cell_type": "code",
   "execution_count": 0,
   "metadata": {
    "application/vnd.databricks.v1+cell": {
     "cellMetadata": {
      "byteLimit": 2048000,
      "rowLimit": 10000
     },
     "inputWidgets": {},
     "nuid": "976e8d6b-1873-43c5-8589-f3f25494eb8c",
     "showTitle": false,
     "tableResultSettingsMap": {},
     "title": ""
    }
   },
   "outputs": [
    {
     "output_type": "stream",
     "name": "stdout",
     "output_type": "stream",
     "text": [
      "root\n |-- Name: string (nullable = true)\n |-- Properties: map (nullable = true)\n |    |-- key: string\n |    |-- value: string (valueContainsNull = true)\n\n"
     ]
    },
    {
     "output_type": "display_data",
     "data": {
      "text/html": [
       "<style scoped>\n",
       "  .table-result-container {\n",
       "    max-height: 300px;\n",
       "    overflow: auto;\n",
       "  }\n",
       "  table, th, td {\n",
       "    border: 1px solid black;\n",
       "    border-collapse: collapse;\n",
       "  }\n",
       "  th, td {\n",
       "    padding: 5px;\n",
       "  }\n",
       "  th {\n",
       "    text-align: left;\n",
       "  }\n",
       "</style><div class='table-result-container'><table class='table-result'><thead style='background-color: white'><tr><th>Name</th><th>Properties</th></tr></thead><tbody><tr><td>Manoj</td><td>Map(eye -> brown, hair -> black)</td></tr><tr><td>Megha</td><td>Map(eye -> gold, hair -> black)</td></tr></tbody></table></div>"
      ]
     },
     "metadata": {
      "application/vnd.databricks.v1+output": {
       "addedWidgets": {},
       "aggData": [],
       "aggError": "",
       "aggOverflow": false,
       "aggSchema": [],
       "aggSeriesLimitReached": false,
       "aggType": "",
       "arguments": {},
       "columnCustomDisplayInfos": {},
       "data": [
        [
         "Manoj",
         {
          "eye": "brown",
          "hair": "black"
         }
        ],
        [
         "Megha",
         {
          "eye": "gold",
          "hair": "black"
         }
        ]
       ],
       "datasetInfos": [],
       "dbfsResultPath": null,
       "isJsonSchema": true,
       "metadata": {},
       "overflow": false,
       "plotOptions": {
        "customPlotOptions": {},
        "displayType": "table",
        "pivotAggregation": null,
        "pivotColumns": null,
        "xColumns": null,
        "yColumns": null
       },
       "removedWidgets": [],
       "schema": [
        {
         "metadata": "{}",
         "name": "Name",
         "type": "\"string\""
        },
        {
         "metadata": "{}",
         "name": "Properties",
         "type": "{\"type\":\"map\",\"keyType\":\"string\",\"valueType\":\"string\",\"valueContainsNull\":true}"
        }
       ],
       "type": "table"
      }
     },
     "output_type": "display_data"
    }
   ],
   "source": [
    "from pyspark.sql.types import StructField,StructType,MapType,StringType\n",
    "\n",
    "data = [('Manoj',{'hair':'black','eye':'brown'}),('Megha',{'hair':'black','eye':'gold'})]\n",
    "schema = StructType().add(field= 'Name',data_type=StringType())\\\n",
    "                    .add(field='Properties',data_type=MapType(StringType(),StringType()))\n",
    "\n",
    "\n",
    "df = spark.createDataFrame(data,schema)\n",
    "#df.show(truncate=False)\n",
    "df.printSchema()\n",
    "display(df)"
   ]
  },
  {
   "cell_type": "code",
   "execution_count": 0,
   "metadata": {
    "application/vnd.databricks.v1+cell": {
     "cellMetadata": {
      "byteLimit": 2048000,
      "rowLimit": 10000
     },
     "inputWidgets": {},
     "nuid": "bd09417f-af09-46e9-b077-ae50f8a49dcb",
     "showTitle": false,
     "tableResultSettingsMap": {},
     "title": ""
    }
   },
   "outputs": [],
   "source": [
    "df_hair = df.withColumn('Hair',df.Properties['hair'])"
   ]
  },
  {
   "cell_type": "code",
   "execution_count": 0,
   "metadata": {
    "application/vnd.databricks.v1+cell": {
     "cellMetadata": {
      "byteLimit": 2048000,
      "rowLimit": 10000
     },
     "inputWidgets": {},
     "nuid": "601b5260-a321-4e01-aaa5-c0e4071227c0",
     "showTitle": false,
     "tableResultSettingsMap": {},
     "title": ""
    }
   },
   "outputs": [
    {
     "output_type": "stream",
     "name": "stdout",
     "output_type": "stream",
     "text": [
      "+-----+-----------------------------+-----+-----+\n|Name |Properties                   |Hair |Eye  |\n+-----+-----------------------------+-----+-----+\n|Manoj|{eye -> brown, hair -> black}|black|brown|\n|Megha|{eye -> gold, hair -> black} |black|gold |\n+-----+-----------------------------+-----+-----+\n\n"
     ]
    }
   ],
   "source": [
    "df_eye = df_hair.withColumn('Eye',df_hair.Properties.getItem('eye'))\n",
    "df_eye.show(truncate = False)"
   ]
  },
  {
   "cell_type": "code",
   "execution_count": 0,
   "metadata": {
    "application/vnd.databricks.v1+cell": {
     "cellMetadata": {
      "byteLimit": 2048000,
      "rowLimit": 10000
     },
     "inputWidgets": {},
     "nuid": "c4e09249-90a7-4e4d-b605-1666b61481a9",
     "showTitle": false,
     "tableResultSettingsMap": {},
     "title": ""
    }
   },
   "outputs": [],
   "source": [
    "from pyspark.sql.functions import explode"
   ]
  },
  {
   "cell_type": "code",
   "execution_count": 0,
   "metadata": {
    "application/vnd.databricks.v1+cell": {
     "cellMetadata": {
      "byteLimit": 2048000,
      "rowLimit": 10000
     },
     "inputWidgets": {},
     "nuid": "b6759863-9cf8-42a1-8221-9b0253964e38",
     "showTitle": false,
     "tableResultSettingsMap": {},
     "title": ""
    }
   },
   "outputs": [
    {
     "output_type": "stream",
     "name": "stdout",
     "output_type": "stream",
     "text": [
      "+-----+--------------------+----+-----+\n| Name|          Properties| key|value|\n+-----+--------------------+----+-----+\n|Manoj|{eye -> brown, ha...| eye|brown|\n|Manoj|{eye -> brown, ha...|hair|black|\n|Megha|{eye -> gold, hai...| eye| gold|\n|Megha|{eye -> gold, hai...|hair|black|\n+-----+--------------------+----+-----+\n\n"
     ]
    }
   ],
   "source": [
    "df_explode = df.select('Name','Properties',explode('Properties'))\n",
    "df_explode.show()"
   ]
  },
  {
   "cell_type": "code",
   "execution_count": 0,
   "metadata": {
    "application/vnd.databricks.v1+cell": {
     "cellMetadata": {
      "byteLimit": 2048000,
      "rowLimit": 10000
     },
     "inputWidgets": {},
     "nuid": "f31b0029-b3c0-409d-acbf-333eb5681e22",
     "showTitle": false,
     "tableResultSettingsMap": {},
     "title": ""
    }
   },
   "outputs": [
    {
     "output_type": "stream",
     "name": "stdout",
     "output_type": "stream",
     "text": [
      "+-----+--------------------+-----------+\n| Name|          Properties|       keys|\n+-----+--------------------+-----------+\n|Manoj|{eye -> brown, ha...|[eye, hair]|\n|Megha|{eye -> gold, hai...|[eye, hair]|\n+-----+--------------------+-----------+\n\n"
     ]
    }
   ],
   "source": [
    "from pyspark.sql.functions import map_keys\n",
    "df_keys = df.withColumn('keys',map_keys(df.Properties))\n",
    "df_keys.show()"
   ]
  },
  {
   "cell_type": "code",
   "execution_count": 0,
   "metadata": {
    "application/vnd.databricks.v1+cell": {
     "cellMetadata": {
      "byteLimit": 2048000,
      "rowLimit": 10000
     },
     "inputWidgets": {},
     "nuid": "73f468ef-fce5-403d-b394-968e898952a9",
     "showTitle": false,
     "tableResultSettingsMap": {},
     "title": ""
    }
   },
   "outputs": [
    {
     "output_type": "stream",
     "name": "stdout",
     "output_type": "stream",
     "text": [
      "+-----+--------------------+--------------+\n| Name|          Properties|        values|\n+-----+--------------------+--------------+\n|Manoj|{eye -> brown, ha...|[brown, black]|\n|Megha|{eye -> gold, hai...| [gold, black]|\n+-----+--------------------+--------------+\n\n"
     ]
    }
   ],
   "source": [
    "from pyspark.sql.functions import map_values\n",
    "df.withColumn('values',map_values(df.Properties)).show()"
   ]
  },
  {
   "cell_type": "code",
   "execution_count": 0,
   "metadata": {
    "application/vnd.databricks.v1+cell": {
     "cellMetadata": {},
     "inputWidgets": {},
     "nuid": "b7e5dcbc-a622-404c-8079-4637f9515faf",
     "showTitle": false,
     "tableResultSettingsMap": {},
     "title": ""
    }
   },
   "outputs": [],
   "source": []
  }
 ],
 "metadata": {
  "application/vnd.databricks.v1+notebook": {
   "dashboards": [],
   "environmentMetadata": null,
   "language": "python",
   "notebookMetadata": {
    "pythonIndentUnit": 2
   },
   "notebookName": "MaptypeNotebook| Explode,Map_keys,Map_values",
   "widgets": {}
  }
 },
 "nbformat": 4,
 "nbformat_minor": 0
}
