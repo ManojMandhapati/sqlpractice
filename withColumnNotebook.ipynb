{
 "cells": [
  {
   "cell_type": "code",
   "execution_count": 0,
   "metadata": {
    "application/vnd.databricks.v1+cell": {
     "cellMetadata": {
      "byteLimit": 2048000,
      "rowLimit": 10000
     },
     "inputWidgets": {},
     "nuid": "1b7a50e6-af78-4964-8573-27b895406464",
     "showTitle": false,
     "tableResultSettingsMap": {},
     "title": ""
    }
   },
   "outputs": [
    {
     "output_type": "stream",
     "name": "stdout",
     "output_type": "stream",
     "text": [
      "+---+------+------+\n| Id|  Name|Salary|\n+---+------+------+\n|  1| Manoj|  3000|\n|  2| Megha|  4000|\n|  3|Manasa|  3800|\n|  4|Naveen|  4000|\n+---+------+------+\n\n"
     ]
    }
   ],
   "source": [
    "from pyspark.sql.functions import col,lit\n",
    "data = [(1,'Manoj',3000),\n",
    "        (2,'Megha',4000),\n",
    "        (3,'Manasa',3800),\n",
    "        (4,'Naveen',4000)]\n",
    "columns = ['Id','Name','Salary']\n",
    "\n",
    "df = spark.createDataFrame(data = data, schema = columns)\n",
    "df.show()"
   ]
  },
  {
   "cell_type": "code",
   "execution_count": 0,
   "metadata": {
    "application/vnd.databricks.v1+cell": {
     "cellMetadata": {
      "byteLimit": 2048000,
      "rowLimit": 10000
     },
     "inputWidgets": {},
     "nuid": "fb0813af-9fb7-4338-84fe-0d4d16b6fb01",
     "showTitle": false,
     "tableResultSettingsMap": {},
     "title": ""
    }
   },
   "outputs": [],
   "source": [
    "df1 = df.withColumn('Salary',col('Salary').cast('Integer')) #chaging the column type\n",
    "df2 = df1.withColumn('Salary',col('Salary')*2) # updating the salary column\n",
    "df3 = df2.withColumn('Country',lit('India')) #creating new column and adding values\n",
    "df4 = df3.withColumn('CopiedSalary',col('Salary')) # creating a new column with the existing data."
   ]
  },
  {
   "cell_type": "code",
   "execution_count": 0,
   "metadata": {
    "application/vnd.databricks.v1+cell": {
     "cellMetadata": {
      "byteLimit": 2048000,
      "rowLimit": 10000
     },
     "inputWidgets": {},
     "nuid": "09026486-c389-4f39-94f0-232971206eb0",
     "showTitle": false,
     "tableResultSettingsMap": {},
     "title": ""
    }
   },
   "outputs": [
    {
     "output_type": "stream",
     "name": "stdout",
     "output_type": "stream",
     "text": [
      "+---+------+------+-------+------------+\n| Id|  Name|Salary|Country|CopiedSalary|\n+---+------+------+-------+------------+\n|  1| Manoj|  6000|  India|        6000|\n|  2| Megha|  8000|  India|        8000|\n|  3|Manasa|  7600|  India|        7600|\n|  4|Naveen|  8000|  India|        8000|\n+---+------+------+-------+------------+\n\n"
     ]
    }
   ],
   "source": [
    "df4.show()\n"
   ]
  },
  {
   "cell_type": "code",
   "execution_count": 0,
   "metadata": {
    "application/vnd.databricks.v1+cell": {
     "cellMetadata": {},
     "inputWidgets": {},
     "nuid": "2c9d7991-5d51-46e7-a073-2fc600f1ae50",
     "showTitle": false,
     "tableResultSettingsMap": {},
     "title": ""
    }
   },
   "outputs": [],
   "source": []
  }
 ],
 "metadata": {
  "application/vnd.databricks.v1+notebook": {
   "dashboards": [],
   "environmentMetadata": null,
   "language": "python",
   "notebookMetadata": {
    "pythonIndentUnit": 2
   },
   "notebookName": "withColumnNotebook",
   "widgets": {}
  }
 },
 "nbformat": 4,
 "nbformat_minor": 0
}
