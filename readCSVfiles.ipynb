{
 "cells": [
  {
   "cell_type": "code",
   "execution_count": 0,
   "metadata": {
    "application/vnd.databricks.v1+cell": {
     "cellMetadata": {
      "byteLimit": 2048000,
      "rowLimit": 10000
     },
     "inputWidgets": {},
     "nuid": "eb622455-6385-4536-b118-f9eb52415030",
     "showTitle": false,
     "tableResultSettingsMap": {},
     "title": ""
    }
   },
   "outputs": [
    {
     "output_type": "execute_result",
     "data": {
      "text/html": [
       "\n",
       "            <div>\n",
       "                <p><b>SparkSession - hive</b></p>\n",
       "                \n",
       "        <div>\n",
       "            <p><b>SparkContext</b></p>\n",
       "\n",
       "            <p><a href=\"/?o=4387695718109273#setting/sparkui/1117-135009-kkko0wzi/driver-5509744081608726536\">Spark UI</a></p>\n",
       "\n",
       "            <dl>\n",
       "              <dt>Version</dt>\n",
       "                <dd><code>v3.5.0</code></dd>\n",
       "              <dt>Master</dt>\n",
       "                <dd><code>local[8]</code></dd>\n",
       "              <dt>AppName</dt>\n",
       "                <dd><code>Databricks Shell</code></dd>\n",
       "            </dl>\n",
       "        </div>\n",
       "        \n",
       "            </div>\n",
       "        "
      ],
      "text/plain": [
       "<pyspark.sql.session.SparkSession at 0x7fefd5398150>"
      ]
     },
     "execution_count": 1,
     "metadata": {},
     "output_type": "execute_result"
    }
   ],
   "source": [
    "spark"
   ]
  },
  {
   "cell_type": "code",
   "execution_count": 0,
   "metadata": {
    "application/vnd.databricks.v1+cell": {
     "cellMetadata": {
      "byteLimit": 2048000,
      "rowLimit": 10000
     },
     "inputWidgets": {},
     "nuid": "9430e58b-516d-48ee-9797-6aae2d7790c9",
     "showTitle": false,
     "tableResultSettingsMap": {},
     "title": ""
    }
   },
   "outputs": [],
   "source": [
    "#help(spark.read)"
   ]
  },
  {
   "cell_type": "code",
   "execution_count": 0,
   "metadata": {
    "application/vnd.databricks.v1+cell": {
     "cellMetadata": {
      "byteLimit": 2048000,
      "rowLimit": 10000
     },
     "inputWidgets": {},
     "nuid": "396ac462-7924-4e8a-886a-00e160ce6ba7",
     "showTitle": false,
     "tableResultSettingsMap": {},
     "title": ""
    }
   },
   "outputs": [
    {
     "output_type": "stream",
     "name": "stdout",
     "output_type": "stream",
     "text": [
      "+---+---+-------------------+\n|  1|  2|           Football|\n+---+---+-------------------+\n|  2|  2|             Soccer|\n|  3|  2|Baseball & Softball|\n|  4|  2|         Basketball|\n|  5|  2|           Lacrosse|\n|  6|  2|   Tennis & Racquet|\n|  7|  2|             Hockey|\n|  8|  2|        More Sports|\n|  9|  3|   Cardio Equipment|\n| 10|  3|  Strength Training|\n| 11|  3|Fitness Accessories|\n| 12|  3|       Boxing & MMA|\n| 13|  3|        Electronics|\n| 14|  3|     Yoga & Pilates|\n| 15|  3|  Training by Sport|\n| 16|  3|    As Seen on  TV!|\n| 17|  4|             Cleats|\n| 18|  4|     Men's Footwear|\n| 19|  4|   Women's Footwear|\n| 20|  4|     Kids' Footwear|\n| 21|  4|     Featured Shops|\n+---+---+-------------------+\nonly showing top 20 rows\n\nroot\n |-- 1: integer (nullable = true)\n |-- 2: integer (nullable = true)\n |-- Football: string (nullable = true)\n\n"
     ]
    }
   ],
   "source": [
    "df =spark.read.csv(path='dbfs:/FileStore/categories.csv', header = True,inferSchema= True)\n",
    "df.show()\n",
    "df.printSchema()"
   ]
  },
  {
   "cell_type": "code",
   "execution_count": 0,
   "metadata": {
    "application/vnd.databricks.v1+cell": {
     "cellMetadata": {
      "byteLimit": 2048000,
      "rowLimit": 10000
     },
     "inputWidgets": {},
     "nuid": "0419fa10-f52b-4991-ad75-21459194eb89",
     "showTitle": false,
     "tableResultSettingsMap": {},
     "title": ""
    }
   },
   "outputs": [
    {
     "output_type": "stream",
     "name": "stdout",
     "output_type": "stream",
     "text": [
      "+---+-----------+---------+----------+----------+--------------------+-------------+---+-----+\n|  1|    Richard|Hernandez|XXXXXXXXX3|XXXXXXXXX4|  6303 Heather Plaza|  Brownsville| TX|78521|\n+---+-----------+---------+----------+----------+--------------------+-------------+---+-----+\n|  2|       Mary|  Barrett| XXXXXXXXX| XXXXXXXXX|9526 Noble Embers...|    Littleton| CO|80126|\n|  3|        Ann|    Smith| XXXXXXXXX| XXXXXXXXX|3422 Blue Pioneer...|       Caguas| PR|00725|\n|  4|       Mary|    Jones| XXXXXXXXX| XXXXXXXXX|  8324 Little Common|   San Marcos| CA|92069|\n|  5|     Robert|   Hudson| XXXXXXXXX| XXXXXXXXX|10 Crystal River ...|       Caguas| PR|00725|\n|  6|       Mary|    Smith| XXXXXXXXX| XXXXXXXXX|3151 Sleepy Quail...|      Passaic| NJ|07055|\n|  7|    Melissa|   Wilcox| XXXXXXXXX| XXXXXXXXX|9453 High Concession|       Caguas| PR|00725|\n|  8|      Megan|    Smith| XXXXXXXXX| XXXXXXXXX|3047 Foggy Forest...|     Lawrence| MA|01841|\n|  9|       Mary|    Perez| XXXXXXXXX| XXXXXXXXX| 3616 Quaking Street|       Caguas| PR|00725|\n| 10|    Melissa|    Smith| XXXXXXXXX| XXXXXXXXX|8598 Harvest Beac...|     Stafford| VA|22554|\n| 11|       Mary|  Huffman| XXXXXXXXX| XXXXXXXXX|    3169 Stony Woods|       Caguas| PR|00725|\n| 12|Christopher|    Smith| XXXXXXXXX| XXXXXXXXX|5594 Jagged Ember...|  San Antonio| TX|78227|\n| 13|       Mary|  Baldwin| XXXXXXXXX| XXXXXXXXX|7922 Iron Oak Gar...|       Caguas| PR|00725|\n| 14|  Katherine|    Smith| XXXXXXXXX| XXXXXXXXX|5666 Hazy Pony Sq...|  Pico Rivera| CA|90660|\n| 15|       Jane|     Luna| XXXXXXXXX| XXXXXXXXX|    673 Burning Glen|      Fontana| CA|92336|\n| 16|    Tiffany|    Smith| XXXXXXXXX| XXXXXXXXX|      6651 Iron Port|       Caguas| PR|00725|\n| 17|       Mary| Robinson| XXXXXXXXX| XXXXXXXXX|     1325 Noble Pike|       Taylor| MI|48180|\n| 18|     Robert|    Smith| XXXXXXXXX| XXXXXXXXX|2734 Hazy Butterf...|     Martinez| CA|94553|\n| 19|  Stephanie| Mitchell| XXXXXXXXX| XXXXXXXXX|3543 Red Treasure...|       Caguas| PR|00725|\n| 20|       Mary|    Ellis| XXXXXXXXX| XXXXXXXXX|      4703 Old Route|West New York| NJ|07093|\n| 21|    William|Zimmerman| XXXXXXXXX| XXXXXXXXX|3323 Old Willow M...|       Caguas| PR|00725|\n+---+-----------+---------+----------+----------+--------------------+-------------+---+-----+\nonly showing top 20 rows\n\nroot\n |-- 1: string (nullable = true)\n |-- Richard: string (nullable = true)\n |-- Hernandez: string (nullable = true)\n |-- XXXXXXXXX3: string (nullable = true)\n |-- XXXXXXXXX4: string (nullable = true)\n |-- 6303 Heather Plaza: string (nullable = true)\n |-- Brownsville: string (nullable = true)\n |-- TX: string (nullable = true)\n |-- 78521: string (nullable = true)\n\n"
     ]
    }
   ],
   "source": [
    "df = spark.read.format('csv').option(key='header', value = True).load(path='dbfs:/FileStore/customers.csv', header = True)\n",
    "df.show()\n",
    "df.printSchema()"
   ]
  },
  {
   "cell_type": "code",
   "execution_count": 0,
   "metadata": {
    "application/vnd.databricks.v1+cell": {
     "cellMetadata": {
      "byteLimit": 2048000,
      "rowLimit": 10000
     },
     "inputWidgets": {},
     "nuid": "db8d873d-16b0-449e-aefd-8ea14775298b",
     "showTitle": false,
     "tableResultSettingsMap": {},
     "title": ""
    }
   },
   "outputs": [
    {
     "output_type": "display_data",
     "data": {
      "text/html": [
       "<style scoped>\n",
       "  .table-result-container {\n",
       "    max-height: 300px;\n",
       "    overflow: auto;\n",
       "  }\n",
       "  table, th, td {\n",
       "    border: 1px solid black;\n",
       "    border-collapse: collapse;\n",
       "  }\n",
       "  th, td {\n",
       "    padding: 5px;\n",
       "  }\n",
       "  th {\n",
       "    text-align: left;\n",
       "  }\n",
       "</style><div class='table-result-container'><table class='table-result'><thead style='background-color: white'><tr><th>TeamName</th><th>Discipline</th><th>Country</th><th>Event</th></tr></thead><tbody><tr><td>Belarus</td><td>Archery</td><td>Belarus</td><td>Women's Team</td></tr><tr><td>Brazil</td><td>Archery</td><td>Brazil</td><td>Mixed Team</td></tr><tr><td>Canada</td><td>Archery</td><td>Canada</td><td>Mixed Team</td></tr><tr><td>China</td><td>Archery</td><td>People's Republic of China</td><td>Men's Team</td></tr><tr><td>China</td><td>Archery</td><td>People's Republic of China</td><td>Mixed Team</td></tr><tr><td>China</td><td>Archery</td><td>People's Republic of China</td><td>Women's Team</td></tr><tr><td>Chinese Taipei</td><td>Archery</td><td>Chinese Taipei</td><td>Men's Team</td></tr><tr><td>Chinese Taipei</td><td>Archery</td><td>Chinese Taipei</td><td>Mixed Team</td></tr><tr><td>Chinese Taipei</td><td>Archery</td><td>Chinese Taipei</td><td>Women's Team</td></tr><tr><td>Colombia</td><td>Archery</td><td>Colombia</td><td>Mixed Team</td></tr><tr><td>Belgium</td><td>3x3 Basketball</td><td>Belgium</td><td>Men</td></tr><tr><td>China</td><td>3x3 Basketball</td><td>People's Republic of China</td><td>Men</td></tr><tr><td>China</td><td>3x3 Basketball</td><td>People's Republic of China</td><td>Women</td></tr><tr><td>France</td><td>3x3 Basketball</td><td>France</td><td>Women</td></tr><tr><td>Italy</td><td>3x3 Basketball</td><td>Italy</td><td>Women</td></tr><tr><td>Japan</td><td>3x3 Basketball</td><td>Japan</td><td>Men</td></tr><tr><td>Japan</td><td>3x3 Basketball</td><td>Japan</td><td>Women</td></tr><tr><td>Latvia</td><td>3x3 Basketball</td><td>Latvia</td><td>Men</td></tr><tr><td>Mongolia</td><td>3x3 Basketball</td><td>Mongolia</td><td>Women</td></tr><tr><td>Netherlands</td><td>3x3 Basketball</td><td>Netherlands</td><td>Men</td></tr><tr><td>Poland</td><td>3x3 Basketball</td><td>Poland</td><td>Men</td></tr></tbody></table></div>"
      ]
     },
     "metadata": {
      "application/vnd.databricks.v1+output": {
       "addedWidgets": {},
       "aggData": [],
       "aggError": "",
       "aggOverflow": false,
       "aggSchema": [],
       "aggSeriesLimitReached": false,
       "aggType": "",
       "arguments": {},
       "columnCustomDisplayInfos": {},
       "data": [
        [
         "Belarus",
         "Archery",
         "Belarus",
         "Women's Team"
        ],
        [
         "Brazil",
         "Archery",
         "Brazil",
         "Mixed Team"
        ],
        [
         "Canada",
         "Archery",
         "Canada",
         "Mixed Team"
        ],
        [
         "China",
         "Archery",
         "People's Republic of China",
         "Men's Team"
        ],
        [
         "China",
         "Archery",
         "People's Republic of China",
         "Mixed Team"
        ],
        [
         "China",
         "Archery",
         "People's Republic of China",
         "Women's Team"
        ],
        [
         "Chinese Taipei",
         "Archery",
         "Chinese Taipei",
         "Men's Team"
        ],
        [
         "Chinese Taipei",
         "Archery",
         "Chinese Taipei",
         "Mixed Team"
        ],
        [
         "Chinese Taipei",
         "Archery",
         "Chinese Taipei",
         "Women's Team"
        ],
        [
         "Colombia",
         "Archery",
         "Colombia",
         "Mixed Team"
        ],
        [
         "Belgium",
         "3x3 Basketball",
         "Belgium",
         "Men"
        ],
        [
         "China",
         "3x3 Basketball",
         "People's Republic of China",
         "Men"
        ],
        [
         "China",
         "3x3 Basketball",
         "People's Republic of China",
         "Women"
        ],
        [
         "France",
         "3x3 Basketball",
         "France",
         "Women"
        ],
        [
         "Italy",
         "3x3 Basketball",
         "Italy",
         "Women"
        ],
        [
         "Japan",
         "3x3 Basketball",
         "Japan",
         "Men"
        ],
        [
         "Japan",
         "3x3 Basketball",
         "Japan",
         "Women"
        ],
        [
         "Latvia",
         "3x3 Basketball",
         "Latvia",
         "Men"
        ],
        [
         "Mongolia",
         "3x3 Basketball",
         "Mongolia",
         "Women"
        ],
        [
         "Netherlands",
         "3x3 Basketball",
         "Netherlands",
         "Men"
        ],
        [
         "Poland",
         "3x3 Basketball",
         "Poland",
         "Men"
        ]
       ],
       "datasetInfos": [],
       "dbfsResultPath": null,
       "isJsonSchema": true,
       "metadata": {},
       "overflow": false,
       "plotOptions": {
        "customPlotOptions": {},
        "displayType": "table",
        "pivotAggregation": null,
        "pivotColumns": null,
        "xColumns": null,
        "yColumns": null
       },
       "removedWidgets": [],
       "schema": [
        {
         "metadata": "{}",
         "name": "TeamName",
         "type": "\"string\""
        },
        {
         "metadata": "{}",
         "name": "Discipline",
         "type": "\"string\""
        },
        {
         "metadata": "{}",
         "name": "Country",
         "type": "\"string\""
        },
        {
         "metadata": "{}",
         "name": "Event",
         "type": "\"string\""
        }
       ],
       "type": "table"
      }
     },
     "output_type": "display_data"
    },
    {
     "output_type": "stream",
     "name": "stdout",
     "output_type": "stream",
     "text": [
      "root\n |-- TeamName: string (nullable = true)\n |-- Discipline: string (nullable = true)\n |-- Country: string (nullable = true)\n |-- Event: string (nullable = true)\n\n"
     ]
    }
   ],
   "source": [
    "from pyspark.sql.types import *\n",
    "schema = StructType().add(field='TeamName',data_type=StringType())\\\n",
    "                    .add(field='Discipline', data_type = StringType())\\\n",
    "                      .add(field = 'Country', data_type=StringType())\\\n",
    "                        .add(field='Event',data_type=StringType()) \n",
    "data = spark.read.csv(path= ['dbfs:/FileStore/team1.csv','dbfs:/FileStore/team2.csv'], header = True, schema = schema)\n",
    "display(data)\n",
    "data.printSchema()"
   ]
  },
  {
   "cell_type": "code",
   "execution_count": 0,
   "metadata": {
    "application/vnd.databricks.v1+cell": {
     "cellMetadata": {
      "byteLimit": 2048000,
      "rowLimit": 10000
     },
     "inputWidgets": {},
     "nuid": "656b392f-c1df-4884-808b-907ddab81548",
     "showTitle": false,
     "tableResultSettingsMap": {},
     "title": ""
    }
   },
   "outputs": [],
   "source": []
  },
  {
   "cell_type": "code",
   "execution_count": 0,
   "metadata": {
    "application/vnd.databricks.v1+cell": {
     "cellMetadata": {
      "byteLimit": 2048000,
      "rowLimit": 10000
     },
     "inputWidgets": {},
     "nuid": "9d02db2d-4b94-4d94-9060-3a89fdcadaaa",
     "showTitle": false,
     "tableResultSettingsMap": {},
     "title": ""
    }
   },
   "outputs": [],
   "source": []
  }
 ],
 "metadata": {
  "application/vnd.databricks.v1+notebook": {
   "dashboards": [],
   "environmentMetadata": null,
   "language": "python",
   "notebookMetadata": {
    "pythonIndentUnit": 2
   },
   "notebookName": "readCSVfiles",
   "widgets": {}
  }
 },
 "nbformat": 4,
 "nbformat_minor": 0
}
