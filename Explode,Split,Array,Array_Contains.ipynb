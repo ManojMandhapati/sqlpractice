{
 "cells": [
  {
   "cell_type": "code",
   "execution_count": 0,
   "metadata": {
    "application/vnd.databricks.v1+cell": {
     "cellMetadata": {
      "byteLimit": 2048000,
      "rowLimit": 10000
     },
     "inputWidgets": {},
     "nuid": "b71599cd-581c-47d0-ac2e-2a1456862eae",
     "showTitle": false,
     "tableResultSettingsMap": {},
     "title": ""
    }
   },
   "outputs": [
    {
     "output_type": "display_data",
     "data": {
      "text/html": [
       "<style scoped>\n",
       "  .table-result-container {\n",
       "    max-height: 300px;\n",
       "    overflow: auto;\n",
       "  }\n",
       "  table, th, td {\n",
       "    border: 1px solid black;\n",
       "    border-collapse: collapse;\n",
       "  }\n",
       "  th, td {\n",
       "    padding: 5px;\n",
       "  }\n",
       "  th {\n",
       "    text-align: left;\n",
       "  }\n",
       "</style><div class='table-result-container'><table class='table-result'><thead style='background-color: white'><tr><th>Id</th><th>Name</th><th>Salary</th></tr></thead><tbody><tr><td>1</td><td>List(Manoj, Mandhapati)</td><td>3000</td></tr><tr><td>2</td><td>List(Megha, Mandhapati)</td><td>4000</td></tr><tr><td>3</td><td>List(Manasa, Mandhapati)</td><td>3800</td></tr><tr><td>4</td><td>List(Naveen, Jaggavarapu)</td><td>4000</td></tr></tbody></table></div>"
      ]
     },
     "metadata": {
      "application/vnd.databricks.v1+output": {
       "addedWidgets": {},
       "aggData": [],
       "aggError": "",
       "aggOverflow": false,
       "aggSchema": [],
       "aggSeriesLimitReached": false,
       "aggType": "",
       "arguments": {},
       "columnCustomDisplayInfos": {},
       "data": [
        [
         1,
         [
          "Manoj",
          "Mandhapati"
         ],
         3000
        ],
        [
         2,
         [
          "Megha",
          "Mandhapati"
         ],
         4000
        ],
        [
         3,
         [
          "Manasa",
          "Mandhapati"
         ],
         3800
        ],
        [
         4,
         [
          "Naveen",
          "Jaggavarapu"
         ],
         4000
        ]
       ],
       "datasetInfos": [],
       "dbfsResultPath": null,
       "isJsonSchema": true,
       "metadata": {},
       "overflow": false,
       "plotOptions": {
        "customPlotOptions": {},
        "displayType": "table",
        "pivotAggregation": null,
        "pivotColumns": null,
        "xColumns": null,
        "yColumns": null
       },
       "removedWidgets": [],
       "schema": [
        {
         "metadata": "{}",
         "name": "Id",
         "type": "\"integer\""
        },
        {
         "metadata": "{}",
         "name": "Name",
         "type": "{\"type\":\"struct\",\"fields\":[{\"name\":\"FirstName\",\"type\":\"string\",\"nullable\":true,\"metadata\":{}},{\"name\":\"LastName\",\"type\":\"string\",\"nullable\":true,\"metadata\":{}}]}"
        },
        {
         "metadata": "{}",
         "name": "Salary",
         "type": "\"integer\""
        }
       ],
       "type": "table"
      }
     },
     "output_type": "display_data"
    },
    {
     "output_type": "stream",
     "name": "stdout",
     "output_type": "stream",
     "text": [
      "root\n |-- Id: integer (nullable = true)\n |-- Name: struct (nullable = true)\n |    |-- FirstName: string (nullable = true)\n |    |-- LastName: string (nullable = true)\n |-- Salary: integer (nullable = true)\n\n"
     ]
    }
   ],
   "source": [
    "from pyspark.sql.types import StructType,StructField,StringType,IntegerType, ArrayType\n",
    "from pyspark.sql.functions import *\n",
    "data = [(1,['Manoj','Mandhapati'],3000),\n",
    "        (2,['Megha','Mandhapati'],4000),\n",
    "        (3,['Manasa','Mandhapati'],3800),\n",
    "        (4,['Naveen','Jaggavarapu'],4000)]\n",
    "\n",
    "structName = StructType().add(field = 'FirstName', data_type = StringType())\\\n",
    "                        .add(field = 'LastName',data_type = StringType())\n",
    "schema = StructType().add(field = 'Id', data_type = IntegerType())\\\n",
    "                  .add(field= 'Name', data_type = structName)\\\n",
    "                    .add(field= 'Salary',data_type = IntegerType())\n",
    "\n",
    "df = spark.createDataFrame(data,schema)\n",
    "display(df)\n",
    "df.printSchema()"
   ]
  },
  {
   "cell_type": "code",
   "execution_count": 0,
   "metadata": {
    "application/vnd.databricks.v1+cell": {
     "cellMetadata": {
      "byteLimit": 2048000,
      "rowLimit": 10000
     },
     "inputWidgets": {},
     "nuid": "cff8a3ce-e130-423d-b335-09360db5a2fd",
     "showTitle": false,
     "tableResultSettingsMap": {},
     "title": ""
    }
   },
   "outputs": [],
   "source": [
    "from pyspark.sql.types import StructType,StructField,StringType,IntegerType, ArrayType\n",
    "from pyspark.sql.functions import *\n",
    "data = [(1,['Manoj','Mandhapati'],3000),\n",
    "        (2,['Megha','Mandhapati'],4000),\n",
    "        (3,['Manasa','Mandhapati'],3800),\n",
    "        (4,['Naveen','Jaggavarapu'],4000)]\n",
    "schema = ['id','name','salary']\n",
    "df = spark.createDataFrame(data,schema)"
   ]
  },
  {
   "cell_type": "code",
   "execution_count": 0,
   "metadata": {
    "application/vnd.databricks.v1+cell": {
     "cellMetadata": {
      "byteLimit": 2048000,
      "rowLimit": 10000
     },
     "inputWidgets": {},
     "nuid": "69eca169-df41-4ec7-ba7d-4f9e3505c405",
     "showTitle": false,
     "tableResultSettingsMap": {},
     "title": ""
    }
   },
   "outputs": [
    {
     "output_type": "stream",
     "name": "stdout",
     "output_type": "stream",
     "text": [
      "+---+--------------------+------+-----------+\n| id|                name|salary| First_Last|\n+---+--------------------+------+-----------+\n|  1| [Manoj, Mandhapati]|  3000|      Manoj|\n|  1| [Manoj, Mandhapati]|  3000| Mandhapati|\n|  2| [Megha, Mandhapati]|  4000|      Megha|\n|  2| [Megha, Mandhapati]|  4000| Mandhapati|\n|  3|[Manasa, Mandhapati]|  3800|     Manasa|\n|  3|[Manasa, Mandhapati]|  3800| Mandhapati|\n|  4|[Naveen, Jaggavar...|  4000|     Naveen|\n|  4|[Naveen, Jaggavar...|  4000|Jaggavarapu|\n+---+--------------------+------+-----------+\n\n"
     ]
    }
   ],
   "source": [
    "df1 = df.withColumn('First_Last',explode(col('name')))\n",
    "df1.show()"
   ]
  },
  {
   "cell_type": "code",
   "execution_count": 0,
   "metadata": {
    "application/vnd.databricks.v1+cell": {
     "cellMetadata": {
      "byteLimit": 2048000,
      "rowLimit": 10000
     },
     "inputWidgets": {},
     "nuid": "9263c3b9-66de-4cb6-bbcf-5a2cb3831595",
     "showTitle": false,
     "tableResultSettingsMap": {},
     "title": ""
    }
   },
   "outputs": [
    {
     "output_type": "stream",
     "name": "stdout",
     "output_type": "stream",
     "text": [
      "+---+------+------------------+------+\n| Id|  name|            skills|Salary|\n+---+------+------------------+------+\n|  1| Manoj|  Azure,Python,SQL|  3000|\n|  2| Megha| HPLC, Dissolution|  4000|\n|  3|Manasa|Manual, Automation|  3800|\n|  4|Naveen|       Jira, Agile|  4000|\n+---+------+------------------+------+\n\n"
     ]
    }
   ],
   "source": [
    "from pyspark.sql.types import StructType,StructField,StringType,IntegerType, ArrayType\n",
    "from pyspark.sql.functions import *\n",
    "data = [(1,'Manoj','Azure,Python,SQL',3000),\n",
    "        (2,'Megha','HPLC, Dissolution',4000),\n",
    "        (3,'Manasa','Manual, Automation',3800),\n",
    "        (4,'Naveen','Jira, Agile',4000)]\n",
    "schema = ['Id','name','skills','Salary']\n",
    "df = spark.createDataFrame(data,schema)\n",
    "df.show()"
   ]
  },
  {
   "cell_type": "code",
   "execution_count": 0,
   "metadata": {
    "application/vnd.databricks.v1+cell": {
     "cellMetadata": {
      "byteLimit": 2048000,
      "rowLimit": 10000
     },
     "inputWidgets": {},
     "nuid": "1b8b4ab2-55d3-4cc9-9f8e-f38c97084b07",
     "showTitle": false,
     "tableResultSettingsMap": {},
     "title": ""
    }
   },
   "outputs": [
    {
     "output_type": "stream",
     "name": "stdout",
     "output_type": "stream",
     "text": [
      "+---+------+------------------+------+--------------------+\n| Id|  name|            skills|Salary|         skillsArray|\n+---+------+------------------+------+--------------------+\n|  1| Manoj|  Azure,Python,SQL|  3000|[Azure, Python, SQL]|\n|  2| Megha| HPLC, Dissolution|  4000|[HPLC,  Dissolution]|\n|  3|Manasa|Manual, Automation|  3800|[Manual,  Automat...|\n|  4|Naveen|       Jira, Agile|  4000|      [Jira,  Agile]|\n+---+------+------------------+------+--------------------+\n\n"
     ]
    }
   ],
   "source": [
    "skills_df = df.withColumn('skillsArray',split(col('skills'),','))\n",
    "skills_df.show()"
   ]
  },
  {
   "cell_type": "code",
   "execution_count": 0,
   "metadata": {
    "application/vnd.databricks.v1+cell": {
     "cellMetadata": {
      "byteLimit": 2048000,
      "rowLimit": 10000
     },
     "inputWidgets": {},
     "nuid": "8e56331d-d50c-48b9-9fe7-a25a1377cc15",
     "showTitle": false,
     "tableResultSettingsMap": {},
     "title": ""
    }
   },
   "outputs": [
    {
     "output_type": "stream",
     "name": "stdout",
     "output_type": "stream",
     "text": [
      "+---+------+------------+--------------+------+\n| Id|  name|Primaryskill|Secondaryskill|Salary|\n+---+------+------------+--------------+------+\n|  1| Manoj|       Azure|        Python|  3000|\n|  2| Megha|        HPLC|   Dissolution|  4000|\n|  3|Manasa|      Manual|    Automation|  3800|\n|  4|Naveen|        Jira|         Agile|  4000|\n+---+------+------------+--------------+------+\n\n"
     ]
    }
   ],
   "source": [
    "from pyspark.sql.types import StructType,StructField,StringType,IntegerType, ArrayType\n",
    "from pyspark.sql.functions import *\n",
    "data = [(1,'Manoj','Azure','Python',3000),\n",
    "        (2,'Megha','HPLC', 'Dissolution',4000),\n",
    "        (3,'Manasa','Manual', 'Automation',3800),\n",
    "        (4,'Naveen','Jira', 'Agile',4000)]\n",
    "schema = ['Id','name','Primaryskill','Secondaryskill','Salary']\n",
    "df = spark.createDataFrame(data,schema)\n",
    "df.show()"
   ]
  },
  {
   "cell_type": "code",
   "execution_count": 0,
   "metadata": {
    "application/vnd.databricks.v1+cell": {
     "cellMetadata": {
      "byteLimit": 2048000,
      "rowLimit": 10000
     },
     "inputWidgets": {},
     "nuid": "d52e1f10-ab58-47a9-a4ef-2acae6ae551c",
     "showTitle": false,
     "tableResultSettingsMap": {},
     "title": ""
    }
   },
   "outputs": [
    {
     "output_type": "stream",
     "name": "stdout",
     "output_type": "stream",
     "text": [
      "+---+------+------------+--------------+------+--------------------+\n| Id|  name|Primaryskill|Secondaryskill|Salary|              Skills|\n+---+------+------------+--------------+------+--------------------+\n|  1| Manoj|       Azure|        Python|  3000|     [Azure, Python]|\n|  2| Megha|        HPLC|   Dissolution|  4000| [HPLC, Dissolution]|\n|  3|Manasa|      Manual|    Automation|  3800|[Manual, Automation]|\n|  4|Naveen|        Jira|         Agile|  4000|       [Jira, Agile]|\n+---+------+------------+--------------+------+--------------------+\n\n"
     ]
    }
   ],
   "source": [
    "skills = df.withColumn('Skills',array(col('Primaryskill'),col('Secondaryskill')))\n",
    "skills.show()"
   ]
  },
  {
   "cell_type": "code",
   "execution_count": 0,
   "metadata": {
    "application/vnd.databricks.v1+cell": {
     "cellMetadata": {
      "byteLimit": 2048000,
      "rowLimit": 10000
     },
     "inputWidgets": {},
     "nuid": "a126520f-23f9-4746-80db-6c18148e5072",
     "showTitle": false,
     "tableResultSettingsMap": {},
     "title": ""
    }
   },
   "outputs": [
    {
     "output_type": "stream",
     "name": "stdout",
     "output_type": "stream",
     "text": [
      "+---+------+--------------------+------+\n| Id|  name|              skills|Salary|\n+---+------+--------------------+------+\n|  1| Manoj|[Azure, Python, SQL]|  3000|\n|  2| Megha| [HPLC, Dissolution]|  4000|\n|  3|Manasa|[Manual, Automation]|  3800|\n|  4|Naveen|[Jira, Agile, Pyt...|  4000|\n+---+------+--------------------+------+\n\n"
     ]
    }
   ],
   "source": [
    "from pyspark.sql.types import StructType,StructField,StringType,IntegerType, ArrayType\n",
    "from pyspark.sql.functions import *\n",
    "data = [(1,'Manoj',['Azure','Python','SQL'],3000),\n",
    "        (2,'Megha',['HPLC', 'Dissolution'],4000),\n",
    "        (3,'Manasa',['Manual', 'Automation'],3800),\n",
    "        (4,'Naveen',['Jira', 'Agile','Python'],4000)]\n",
    "schema = ['Id','name','skills','Salary']\n",
    "df = spark.createDataFrame(data,schema)\n",
    "df.show()"
   ]
  },
  {
   "cell_type": "code",
   "execution_count": 0,
   "metadata": {
    "application/vnd.databricks.v1+cell": {
     "cellMetadata": {
      "byteLimit": 2048000,
      "rowLimit": 10000
     },
     "inputWidgets": {},
     "nuid": "1290966f-f9f8-4ac2-b928-55125e20f360",
     "showTitle": false,
     "tableResultSettingsMap": {},
     "title": ""
    }
   },
   "outputs": [
    {
     "output_type": "stream",
     "name": "stdout",
     "output_type": "stream",
     "text": [
      "+---+------+--------------------+------+--------------+\n| Id|  name|              skills|Salary|HasSkillPython|\n+---+------+--------------------+------+--------------+\n|  1| Manoj|[Azure, Python, SQL]|  3000|          true|\n|  2| Megha| [HPLC, Dissolution]|  4000|         false|\n|  3|Manasa|[Manual, Automation]|  3800|         false|\n|  4|Naveen|[Jira, Agile, Pyt...|  4000|          true|\n+---+------+--------------------+------+--------------+\n\n"
     ]
    }
   ],
   "source": [
    "df.withColumn('HasSkillPython', array_contains(col('skills'),'Python')).show()"
   ]
  },
  {
   "cell_type": "code",
   "execution_count": 0,
   "metadata": {
    "application/vnd.databricks.v1+cell": {
     "cellMetadata": {},
     "inputWidgets": {},
     "nuid": "58a39260-db3c-41e2-a891-998e15f0e15d",
     "showTitle": false,
     "tableResultSettingsMap": {},
     "title": ""
    }
   },
   "outputs": [],
   "source": []
  }
 ],
 "metadata": {
  "application/vnd.databricks.v1+notebook": {
   "dashboards": [],
   "environmentMetadata": null,
   "language": "python",
   "notebookMetadata": {
    "pythonIndentUnit": 2
   },
   "notebookName": "Explode,Split,Array,Array_Contains",
   "widgets": {}
  }
 },
 "nbformat": 4,
 "nbformat_minor": 0
}
