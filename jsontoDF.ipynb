{
 "cells": [
  {
   "cell_type": "code",
   "execution_count": 0,
   "metadata": {
    "application/vnd.databricks.v1+cell": {
     "cellMetadata": {
      "byteLimit": 2048000,
      "rowLimit": 10000
     },
     "inputWidgets": {},
     "nuid": "33ef819a-a8d7-46d9-a8de-02c96b6eb78d",
     "showTitle": false,
     "tableResultSettingsMap": {},
     "title": ""
    }
   },
   "outputs": [
    {
     "output_type": "stream",
     "name": "stdout",
     "output_type": "stream",
     "text": [
      "+---+-----+------+------+\n| ID| Name|Gender|Salary|\n+---+-----+------+------+\n|  1|Manoj|  Male|  3000|\n|  2|Megha|Female|  4000|\n+---+-----+------+------+\n\nroot\n |-- ID: integer (nullable = true)\n |-- Name: string (nullable = true)\n |-- Gender: string (nullable = true)\n |-- Salary: integer (nullable = true)\n\n"
     ]
    }
   ],
   "source": [
    "from pyspark.sql.types import *\n",
    "schema = StructType([ StructField('ID', IntegerType()),\n",
    "                     StructField('Name',StringType()),\n",
    "                     StructField('Gender',StringType()),\n",
    "                    StructField ('Salary', IntegerType())])\n",
    "df = spark.read.json(path = 'dbfs:/FileStore/emp1.json',schema = schema)\n",
    "df.show()\n",
    "df.printSchema()"
   ]
  },
  {
   "cell_type": "code",
   "execution_count": 0,
   "metadata": {
    "application/vnd.databricks.v1+cell": {
     "cellMetadata": {
      "byteLimit": 2048000,
      "rowLimit": 10000
     },
     "inputWidgets": {},
     "nuid": "051b67b2-2ae4-470d-a453-3fadc53ef058",
     "showTitle": false,
     "tableResultSettingsMap": {},
     "title": ""
    }
   },
   "outputs": [],
   "source": [
    "from pyspark.sql.types import *\n",
    "#help(StructType)"
   ]
  },
  {
   "cell_type": "code",
   "execution_count": 0,
   "metadata": {
    "application/vnd.databricks.v1+cell": {
     "cellMetadata": {
      "byteLimit": 2048000,
      "rowLimit": 10000
     },
     "inputWidgets": {},
     "nuid": "a751aaaa-ef06-45a9-8e86-aeaa380cc078",
     "showTitle": false,
     "tableResultSettingsMap": {},
     "title": ""
    }
   },
   "outputs": [
    {
     "output_type": "stream",
     "name": "stdout",
     "output_type": "stream",
     "text": [
      "+---+-----+------+------+\n| ID| Name|Gender|Salary|\n+---+-----+------+------+\n|  1|Manoj|  Male|  3000|\n|  2|Megha|Female|  4000|\n+---+-----+------+------+\n\nroot\n |-- ID: integer (nullable = true)\n |-- Name: string (nullable = true)\n |-- Gender: string (nullable = true)\n |-- Salary: integer (nullable = true)\n\n"
     ]
    }
   ],
   "source": [
    "from pyspark.sql.types import *\n",
    "schema = StructType([ StructField('ID', IntegerType()),\n",
    "                     StructField('Name',StringType()),\n",
    "                     StructField('Gender',StringType()),\n",
    "                    StructField ('Salary', IntegerType())])\n",
    "df = spark.read.json(path = 'dbfs:/FileStore/emp2.json',schema = schema, multiLine = True)\n",
    "df.show()\n",
    "df.printSchema()"
   ]
  },
  {
   "cell_type": "code",
   "execution_count": 0,
   "metadata": {
    "application/vnd.databricks.v1+cell": {
     "cellMetadata": {
      "byteLimit": 2048000,
      "rowLimit": 10000
     },
     "inputWidgets": {},
     "nuid": "1f44a27b-c07a-4c96-89f8-bded0bfc4c72",
     "showTitle": false,
     "tableResultSettingsMap": {},
     "title": ""
    }
   },
   "outputs": [
    {
     "output_type": "stream",
     "name": "stdout",
     "output_type": "stream",
     "text": [
      "+---+-----+------+------+\n| ID| Name|Gender|Salary|\n+---+-----+------+------+\n|  3|Manoj|  Male|  3500|\n|  4|Megha|Female|  5000|\n|  1|Manoj|  Male|  3000|\n|  2|Megha|Female|  4000|\n|  1|Manoj|  Male|  3000|\n+---+-----+------+------+\n\nroot\n |-- ID: integer (nullable = true)\n |-- Name: string (nullable = true)\n |-- Gender: string (nullable = true)\n |-- Salary: integer (nullable = true)\n\n"
     ]
    }
   ],
   "source": [
    "schema = StructType().add(field='ID',data_type=IntegerType())\\\n",
    "                  .add(field = 'Name',data_type = StringType())\\\n",
    "                    .add(field = 'Gender',data_type = StringType())\\\n",
    "                      .add(field = 'Salary',data_type = IntegerType())\n",
    "        \n",
    "df = spark.read.json(path = 'dbfs:/FileStore/*.json', multiLine = True, schema = schema)\n",
    "df.show()\n",
    "df.printSchema()"
   ]
  },
  {
   "cell_type": "code",
   "execution_count": 0,
   "metadata": {
    "application/vnd.databricks.v1+cell": {
     "cellMetadata": {
      "byteLimit": 2048000,
      "rowLimit": 10000
     },
     "inputWidgets": {},
     "nuid": "997c96fe-9a94-4329-884e-49e6cfa859b4",
     "showTitle": false,
     "tableResultSettingsMap": {},
     "title": ""
    }
   },
   "outputs": [],
   "source": []
  }
 ],
 "metadata": {
  "application/vnd.databricks.v1+notebook": {
   "dashboards": [],
   "environmentMetadata": null,
   "language": "python",
   "notebookMetadata": {
    "pythonIndentUnit": 2
   },
   "notebookName": "jsontoDF",
   "widgets": {}
  }
 },
 "nbformat": 4,
 "nbformat_minor": 0
}
