{
 "cells": [
  {
   "cell_type": "code",
   "execution_count": 0,
   "metadata": {
    "application/vnd.databricks.v1+cell": {
     "cellMetadata": {
      "byteLimit": 2048000,
      "rowLimit": 10000
     },
     "inputWidgets": {},
     "nuid": "904ae2b0-86f6-4a74-94e2-114548da8cc5",
     "showTitle": false,
     "tableResultSettingsMap": {},
     "title": ""
    }
   },
   "outputs": [
    {
     "output_type": "stream",
     "name": "stdout",
     "output_type": "stream",
     "text": [
      "+---+------+------+\n| Id|  Name|Salary|\n+---+------+------+\n|  1| Manoj|  3000|\n|  2| Megha|  4000|\n|  3|Manasa|  3800|\n|  4|Naveen|  4000|\n+---+------+------+\n\nroot\n |-- Id: integer (nullable = true)\n |-- Name: string (nullable = true)\n |-- Salary: integer (nullable = true)\n\n"
     ]
    }
   ],
   "source": [
    "from pyspark.sql.types import StructType,StructField,StringType,IntegerType\n",
    "data = [(1,'Manoj',3000),\n",
    "        (2,'Megha',4000),\n",
    "        (3,'Manasa',3800),\n",
    "        (4,'Naveen',4000)]\n",
    "schema = StructType().add(field = 'Id', data_type = IntegerType())\\\n",
    "                  .add(field= 'Name', data_type = StringType())\\\n",
    "                    .add(field= 'Salary',data_type = IntegerType())\n",
    "\n",
    "df = spark.createDataFrame(data = data,schema = schema)\n",
    "df.show()\n",
    "df.printSchema()"
   ]
  },
  {
   "cell_type": "code",
   "execution_count": 0,
   "metadata": {
    "application/vnd.databricks.v1+cell": {
     "cellMetadata": {
      "byteLimit": 2048000,
      "rowLimit": 10000
     },
     "inputWidgets": {},
     "nuid": "036dc7e2-746a-4195-95f0-9050ef337671",
     "showTitle": false,
     "tableResultSettingsMap": {},
     "title": ""
    }
   },
   "outputs": [
    {
     "output_type": "stream",
     "name": "stdout",
     "output_type": "stream",
     "text": [
      "+---+--------+------+\n| Id|Emp_Name|Salary|\n+---+--------+------+\n|  1|   Manoj|  3000|\n|  2|   Megha|  4000|\n|  3|  Manasa|  3800|\n|  4|  Naveen|  4000|\n+---+--------+------+\n\n"
     ]
    }
   ],
   "source": [
    "data = [(1,'Manoj',3000),\n",
    "        (2,'Megha',4000),\n",
    "        (3,'Manasa',3800),\n",
    "        (4,'Naveen',4000)]\n",
    "\n",
    "columns = StructType([StructField (name ='Id',dataType = IntegerType()) ,\n",
    "                     StructField(name= 'Emp_Name', dataType =StringType()),\n",
    "                     StructField (name = 'Salary', dataType =IntegerType())])\n",
    "df = spark.createDataFrame(data = data, schema = columns)\n",
    "df.show()"
   ]
  },
  {
   "cell_type": "code",
   "execution_count": 0,
   "metadata": {
    "application/vnd.databricks.v1+cell": {
     "cellMetadata": {
      "byteLimit": 2048000,
      "rowLimit": 10000
     },
     "inputWidgets": {},
     "nuid": "0cf4624a-06bd-4dc8-927b-3f29d15deac3",
     "showTitle": false,
     "tableResultSettingsMap": {},
     "title": ""
    }
   },
   "outputs": [
    {
     "output_type": "display_data",
     "data": {
      "text/html": [
       "<style scoped>\n",
       "  .table-result-container {\n",
       "    max-height: 300px;\n",
       "    overflow: auto;\n",
       "  }\n",
       "  table, th, td {\n",
       "    border: 1px solid black;\n",
       "    border-collapse: collapse;\n",
       "  }\n",
       "  th, td {\n",
       "    padding: 5px;\n",
       "  }\n",
       "  th {\n",
       "    text-align: left;\n",
       "  }\n",
       "</style><div class='table-result-container'><table class='table-result'><thead style='background-color: white'><tr><th>Id</th><th>Name</th><th>Salary</th></tr></thead><tbody><tr><td>1</td><td>List(Manoj, Mandhapati)</td><td>3000</td></tr><tr><td>2</td><td>List(Megha, Mandhapati)</td><td>4000</td></tr><tr><td>3</td><td>List(Manasa, Mandhapati)</td><td>3800</td></tr><tr><td>4</td><td>List(Naveen, Jaggavarapu)</td><td>4000</td></tr></tbody></table></div>"
      ]
     },
     "metadata": {
      "application/vnd.databricks.v1+output": {
       "addedWidgets": {},
       "aggData": [],
       "aggError": "",
       "aggOverflow": false,
       "aggSchema": [],
       "aggSeriesLimitReached": false,
       "aggType": "",
       "arguments": {},
       "columnCustomDisplayInfos": {},
       "data": [
        [
         1,
         [
          "Manoj",
          "Mandhapati"
         ],
         3000
        ],
        [
         2,
         [
          "Megha",
          "Mandhapati"
         ],
         4000
        ],
        [
         3,
         [
          "Manasa",
          "Mandhapati"
         ],
         3800
        ],
        [
         4,
         [
          "Naveen",
          "Jaggavarapu"
         ],
         4000
        ]
       ],
       "datasetInfos": [],
       "dbfsResultPath": null,
       "isJsonSchema": true,
       "metadata": {},
       "overflow": false,
       "plotOptions": {
        "customPlotOptions": {},
        "displayType": "table",
        "pivotAggregation": null,
        "pivotColumns": null,
        "xColumns": null,
        "yColumns": null
       },
       "removedWidgets": [],
       "schema": [
        {
         "metadata": "{}",
         "name": "Id",
         "type": "\"integer\""
        },
        {
         "metadata": "{}",
         "name": "Name",
         "type": "{\"type\":\"struct\",\"fields\":[{\"name\":\"FirstName\",\"type\":\"string\",\"nullable\":true,\"metadata\":{}},{\"name\":\"LastName\",\"type\":\"string\",\"nullable\":true,\"metadata\":{}}]}"
        },
        {
         "metadata": "{}",
         "name": "Salary",
         "type": "\"integer\""
        }
       ],
       "type": "table"
      }
     },
     "output_type": "display_data"
    },
    {
     "output_type": "stream",
     "name": "stdout",
     "output_type": "stream",
     "text": [
      "root\n |-- Id: integer (nullable = true)\n |-- Name: struct (nullable = true)\n |    |-- FirstName: string (nullable = true)\n |    |-- LastName: string (nullable = true)\n |-- Salary: integer (nullable = true)\n\n"
     ]
    }
   ],
   "source": [
    "from pyspark.sql.types import StructType,StructField,StringType,IntegerType\n",
    "data = [(1,('Manoj','Mandhapati'),3000),\n",
    "        (2,('Megha','Mandhapati'),4000),\n",
    "        (3,('Manasa','Mandhapati'),3800),\n",
    "        (4,('Naveen','Jaggavarapu'),4000)]\n",
    "\n",
    "structName = StructType().add(field = 'FirstName', data_type = StringType())\\\n",
    "                        .add(field = 'LastName',data_type = StringType())\n",
    "schema = StructType().add(field = 'Id', data_type = IntegerType())\\\n",
    "                  .add(field= 'Name', data_type = structName)\\\n",
    "                    .add(field= 'Salary',data_type = IntegerType())\n",
    "\n",
    "df = spark.createDataFrame(data = data,schema = schema)\n",
    "display(df)\n",
    "df.printSchema()"
   ]
  },
  {
   "cell_type": "code",
   "execution_count": 0,
   "metadata": {
    "application/vnd.databricks.v1+cell": {
     "cellMetadata": {},
     "inputWidgets": {},
     "nuid": "ce1e0947-5564-44d5-8642-c06972e11a8b",
     "showTitle": false,
     "tableResultSettingsMap": {},
     "title": ""
    }
   },
   "outputs": [],
   "source": []
  }
 ],
 "metadata": {
  "application/vnd.databricks.v1+notebook": {
   "dashboards": [],
   "environmentMetadata": null,
   "language": "python",
   "notebookMetadata": {
    "pythonIndentUnit": 2
   },
   "notebookName": "structType_structField",
   "widgets": {}
  }
 },
 "nbformat": 4,
 "nbformat_minor": 0
}
