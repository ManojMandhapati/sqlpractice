{
 "cells": [
  {
   "cell_type": "code",
   "execution_count": 0,
   "metadata": {
    "application/vnd.databricks.v1+cell": {
     "cellMetadata": {
      "byteLimit": 2048000,
      "rowLimit": 10000
     },
     "inputWidgets": {},
     "nuid": "162c4018-0b07-4734-b1d2-f190a5094993",
     "showTitle": false,
     "tableResultSettingsMap": {},
     "title": ""
    }
   },
   "outputs": [
    {
     "output_type": "stream",
     "name": "stdout",
     "output_type": "stream",
     "text": [
      "+---+----------------------------------------+\n|Id |Comments                                |\n+---+----------------------------------------+\n|1  |bskxbsansaalaallslaaslassadd            |\n|2  |sbjdbkz aeiuao;j.FB ACJDNAF\\KJjJBDIhdkis|\n+---+----------------------------------------+\nonly showing top 2 rows\n\n"
     ]
    }
   ],
   "source": [
    "data = [(1,'bskxbsansaalaallslaaslassadd'),\n",
    "        (2,'sbjdbkz aeiuao;j.FB ACJDNAF\\KJjJBDIhdkis'),\n",
    "        (3,'z fi\\oiaejl\\knfkj ljdOJD'),\n",
    "        (4,'czbkckzjn ahciojsn\\l'),\n",
    "        (5,'dbajepdiwelnahiajdijlk')]\n",
    "\n",
    "schema = ['Id','Comments']\n",
    "\n",
    "df = spark.createDataFrame(data = data, schema = schema)\n",
    "df.show(2,truncate = False)"
   ]
  },
  {
   "cell_type": "code",
   "execution_count": 0,
   "metadata": {
    "application/vnd.databricks.v1+cell": {
     "cellMetadata": {
      "byteLimit": 2048000,
      "rowLimit": 10000
     },
     "inputWidgets": {},
     "nuid": "dd2086d4-c08f-4434-9520-70d3992def3e",
     "showTitle": false,
     "tableResultSettingsMap": {},
     "title": ""
    }
   },
   "outputs": [
    {
     "output_type": "stream",
     "name": "stdout",
     "output_type": "stream",
     "text": [
      "-RECORD 0--------------------------------------------\n Id       | 1                                        \n Comments | bskxbsansaalaallslaaslassadd             \n-RECORD 1--------------------------------------------\n Id       | 2                                        \n Comments | sbjdbkz aeiuao;j.FB ACJDNAF\\KJjJBDIhdkis \n-RECORD 2--------------------------------------------\n Id       | 3                                        \n Comments | z fi\\oiaejl\\knfkj ljdOJD                 \n-RECORD 3--------------------------------------------\n Id       | 4                                        \n Comments | czbkckzjn ahciojsn\\l                     \n-RECORD 4--------------------------------------------\n Id       | 5                                        \n Comments | dbajepdiwelnahiajdijlk                   \n\n"
     ]
    }
   ],
   "source": [
    "df.show(truncate = False, vertical= True)"
   ]
  },
  {
   "cell_type": "code",
   "execution_count": 0,
   "metadata": {
    "application/vnd.databricks.v1+cell": {
     "cellMetadata": {},
     "inputWidgets": {},
     "nuid": "c519918a-73d8-493b-9705-b351c5d1bcaa",
     "showTitle": false,
     "tableResultSettingsMap": {},
     "title": ""
    }
   },
   "outputs": [],
   "source": []
  }
 ],
 "metadata": {
  "application/vnd.databricks.v1+notebook": {
   "dashboards": [],
   "environmentMetadata": null,
   "language": "python",
   "notebookMetadata": {
    "pythonIndentUnit": 2
   },
   "notebookName": "showNotebook",
   "widgets": {}
  }
 },
 "nbformat": 4,
 "nbformat_minor": 0
}
